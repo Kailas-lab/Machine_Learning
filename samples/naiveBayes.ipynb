{
 "cells": [
  {
   "cell_type": "markdown",
   "id": "f11dbc47",
   "metadata": {},
   "source": [
    "### Naive bayes\n",
    "\n",
    "**chance of getting head or tail in coin 50%**\n",
    "\n",
    "![img](qq.png)\n",
    "\n",
    "**Pick a random card,what is the probability of getting a queen?**\n",
    "\n",
    "![img](ww.png)\n",
    "\n",
    "**Pick a random card,you know it is a diamond . now what is the probability of that card being a queen?**\n",
    "\n",
    "![img](ee.png)\n",
    "\n",
    "![img](rr.png)\n",
    "\n",
    "![img](tt.png)\n",
    "\n",
    "![img](yy.png)\n",
    "\n",
    "**Titanic survial datas**\n",
    "\n",
    "![img](uu.png)\n",
    "\n",
    "**Make a naive assumption that features such as male,class,age,cabin,fare etc.. are independent of each other**\n",
    "\n",
    "**we just assume the features are independent for naive, but in reality it have some relations between the features - example like cabin and fares**\n"
   ]
  },
  {
   "cell_type": "markdown",
   "id": "23a9608c",
   "metadata": {},
   "source": []
  },
  {
   "cell_type": "code",
   "execution_count": null,
   "id": "ebc34813",
   "metadata": {
    "vscode": {
     "languageId": "plaintext"
    }
   },
   "outputs": [],
   "source": []
  },
  {
   "cell_type": "code",
   "execution_count": null,
   "id": "08d60bb1",
   "metadata": {
    "vscode": {
     "languageId": "plaintext"
    }
   },
   "outputs": [],
   "source": []
  },
  {
   "cell_type": "code",
   "execution_count": null,
   "id": "d51c8800",
   "metadata": {
    "vscode": {
     "languageId": "plaintext"
    }
   },
   "outputs": [],
   "source": []
  }
 ],
 "metadata": {
  "language_info": {
   "name": "python"
  }
 },
 "nbformat": 4,
 "nbformat_minor": 5
}
