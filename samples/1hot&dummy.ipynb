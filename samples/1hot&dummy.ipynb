{
 "cells": [
  {
   "cell_type": "markdown",
   "id": "fb60f5d8",
   "metadata": {},
   "source": [
    "![img](e.png)"
   ]
  },
  {
   "cell_type": "markdown",
   "id": "d4e30aa6",
   "metadata": {},
   "source": [
    "![img](f.png)"
   ]
  },
  {
   "cell_type": "markdown",
   "id": "cdb5506f",
   "metadata": {},
   "source": [
    "![img](i.png)"
   ]
  },
  {
   "cell_type": "markdown",
   "id": "58fd8578",
   "metadata": {},
   "source": [
    "![img](g.png)\n",
    "\n",
    "so if we get dummies like these , its just put order ise number so we have conflict like one place + another place = resulted place, like the way they trained. so not use like this"
   ]
  },
  {
   "cell_type": "markdown",
   "id": "ea88424d",
   "metadata": {},
   "source": [
    "\n",
    "\n",
    "Then categorical variables as 2 types\n",
    "\n",
    "![img](t.png)\n",
    "\n",
    "1. nominal = no sort of any relations\n",
    "2. ordinal = it have some numerical relations\n",
    "ex: graudate < phd"
   ]
  },
  {
   "cell_type": "markdown",
   "id": "665f1da6",
   "metadata": {},
   "source": []
  },
  {
   "cell_type": "code",
   "execution_count": null,
   "id": "73dca5e2",
   "metadata": {
    "vscode": {
     "languageId": "plaintext"
    }
   },
   "outputs": [],
   "source": []
  },
  {
   "cell_type": "code",
   "execution_count": null,
   "id": "87bb5ecb",
   "metadata": {
    "vscode": {
     "languageId": "plaintext"
    }
   },
   "outputs": [],
   "source": []
  }
 ],
 "metadata": {
  "language_info": {
   "name": "python"
  }
 },
 "nbformat": 4,
 "nbformat_minor": 5
}
