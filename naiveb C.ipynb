{
 "cells": [
  {
   "cell_type": "code",
   "execution_count": 2,
   "metadata": {},
   "outputs": [
    {
     "name": "stdout",
     "output_type": "stream",
     "text": [
      "Accuracy: 1.0\n",
      "\n",
      "Enter the details of the individual:\n",
      "\n",
      "Age: 45\n",
      "\n",
      "Education_years: 14\n",
      "\n",
      "Hours_per_week: 50\n",
      "\n",
      "Predicted Income Class for the given input: >50K\n"
     ]
    },
    {
     "name": "stderr",
     "output_type": "stream",
     "text": [
      "c:\\Users\\ADMIN\\AppData\\Local\\Programs\\Python\\Python312\\Lib\\site-packages\\sklearn\\utils\\validation.py:2739: UserWarning: X does not have valid feature names, but GaussianNB was fitted with feature names\n",
      "  warnings.warn(\n"
     ]
    }
   ],
   "source": [
    "import pandas as pd\n",
    "from sklearn.model_selection import train_test_split\n",
    "from sklearn.naive_bayes import GaussianNB\n",
    "from sklearn.metrics import accuracy_score\n",
    "\n",
    "# Sample simplified dataset\n",
    "data = {\n",
    "    \"Age\": [25, 32, 47, 52, 46, 56, 28, 30, 48, 50],\n",
    "    \"Education_Years\": [10, 12, 14, 16, 13, 15, 10, 11, 14, 13],\n",
    "    \"Hours_per_Week\": [40, 50, 60, 45, 55, 60, 35, 40, 50, 55],\n",
    "    \"Income\": [0, 0, 1, 1, 1, 1, 0, 0, 1, 1]  # 0 = <=50K, 1 = >50K\n",
    "}\n",
    "\n",
    "# Convert to DataFrame\n",
    "df = pd.DataFrame(data)\n",
    "\n",
    "# Features and labels\n",
    "X = df[[\"Age\", \"Education_Years\", \"Hours_per_Week\"]]  # Features\n",
    "y = df[\"Income\"]  # Labels\n",
    "\n",
    "# Split the dataset into training and testing sets\n",
    "X_train, X_test, y_train, y_test = train_test_split(X, y, test_size=0.3, random_state=42)\n",
    "\n",
    "# Create a Gaussian Naive Bayes model\n",
    "model = GaussianNB()\n",
    "\n",
    "# Train the model\n",
    "model.fit(X_train, y_train)\n",
    "\n",
    "# Make predictions on the test set\n",
    "y_pred = model.predict(X_test)\n",
    "\n",
    "# Evaluate the model\n",
    "accuracy = accuracy_score(y_test, y_pred)\n",
    "print(\"Accuracy:\", accuracy)\n",
    "\n",
    "\n",
    "# Take user input\n",
    "print(\"\\nEnter the details of the individual:\")\n",
    "age = int(input(\"Age: \"))\n",
    "education_years = int(input(\"Education Years: \"))\n",
    "hours_per_week = int(input(\"Hours per Week: \"))\n",
    "\n",
    "# Predict the income class for the user-provided input\n",
    "sample = [[age, education_years, hours_per_week]]\n",
    "predicted_class = model.predict(sample)\n",
    "predicted_label = \">50K\" if predicted_class[0] == 1 else \"<=50K\"\n",
    "\n",
    "print(f\"\\nAge: {age }\")\n",
    "print(f\"\\nEducation_years: {education_years}\")\n",
    "print(f\"\\nHours_per_week: {hours_per_week}\")\n",
    "\n",
    "print(f\"\\nPredicted Income Class for the given input: {predicted_label}\")\n"
   ]
  }
 ],
 "metadata": {
  "kernelspec": {
   "display_name": "Python 3",
   "language": "python",
   "name": "python3"
  },
  "language_info": {
   "codemirror_mode": {
    "name": "ipython",
    "version": 3
   },
   "file_extension": ".py",
   "mimetype": "text/x-python",
   "name": "python",
   "nbconvert_exporter": "python",
   "pygments_lexer": "ipython3",
   "version": "3.12.5"
  }
 },
 "nbformat": 4,
 "nbformat_minor": 2
}
