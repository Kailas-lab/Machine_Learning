{
 "cells": [
  {
   "cell_type": "markdown",
   "id": "978e8f67",
   "metadata": {},
   "source": [
    "![img](aa.png)\n",
    "\n",
    "## Logistic Regression is one of the techniques use for classification\n",
    "\n",
    "![img](bb.png)\n",
    "\n",
    "### Binary and Multi class"
   ]
  },
  {
   "cell_type": "markdown",
   "id": "a4152aa9",
   "metadata": {},
   "source": [
    "buy insurance or not based on age\n",
    "\n",
    "![img](cc.png)\n",
    "\n",
    "**in linear regression**\n",
    "\n",
    "![img](ee.png)\n",
    "\n",
    "**in logistic**\n",
    "\n",
    "\n",
    "![img](gg.png)\n",
    "\n"
   ]
  },
  {
   "cell_type": "markdown",
   "id": "b57fc1a2",
   "metadata": {},
   "source": [
    "![img](1.png)\n",
    "\n",
    "![img](2.png)"
   ]
  },
  {
   "cell_type": "code",
   "execution_count": 1,
   "id": "7c8fd0db",
   "metadata": {},
   "outputs": [],
   "source": [
    "#Sigmoid (0 to 1)\n",
    "import math\n",
    "\n",
    "def sigmoid(x):\n",
    "  return 1 / (1 + math.exp(-x))\n"
   ]
  },
  {
   "cell_type": "code",
   "execution_count": 3,
   "id": "e61d3a2c",
   "metadata": {},
   "outputs": [
    {
     "name": "stdout",
     "output_type": "stream",
     "text": [
      "1.0\n",
      "0.7310585786300049\n",
      "4.780892883885469e-25\n"
     ]
    }
   ],
   "source": [
    "print(sigmoid(100))\n",
    "print(sigmoid(1))\n",
    "print(sigmoid(-56))"
   ]
  },
  {
   "cell_type": "code",
   "execution_count": null,
   "id": "ef466b7c",
   "metadata": {},
   "outputs": [],
   "source": []
  },
  {
   "cell_type": "code",
   "execution_count": null,
   "id": "22618c96",
   "metadata": {},
   "outputs": [],
   "source": []
  },
  {
   "cell_type": "code",
   "execution_count": null,
   "id": "fddb8af9",
   "metadata": {},
   "outputs": [],
   "source": []
  },
  {
   "cell_type": "code",
   "execution_count": null,
   "id": "41bf7123",
   "metadata": {},
   "outputs": [],
   "source": []
  },
  {
   "cell_type": "code",
   "execution_count": null,
   "id": "733b7d2f",
   "metadata": {},
   "outputs": [],
   "source": []
  },
  {
   "cell_type": "code",
   "execution_count": null,
   "id": "d42eb69f",
   "metadata": {},
   "outputs": [],
   "source": []
  },
  {
   "cell_type": "code",
   "execution_count": null,
   "id": "e8cb8f5f",
   "metadata": {},
   "outputs": [],
   "source": []
  }
 ],
 "metadata": {
  "kernelspec": {
   "display_name": "Python 3",
   "language": "python",
   "name": "python3"
  },
  "language_info": {
   "codemirror_mode": {
    "name": "ipython",
    "version": 3
   },
   "file_extension": ".py",
   "mimetype": "text/x-python",
   "name": "python",
   "nbconvert_exporter": "python",
   "pygments_lexer": "ipython3",
   "version": "3.10.0"
  }
 },
 "nbformat": 4,
 "nbformat_minor": 5
}
